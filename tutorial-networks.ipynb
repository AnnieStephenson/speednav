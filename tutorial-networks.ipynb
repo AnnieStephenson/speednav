{
 "cells": [
  {
   "cell_type": "code",
   "execution_count": 1,
   "id": "b24d8680",
   "metadata": {},
   "outputs": [],
   "source": [
    "import numpy as np\n",
    "import os\n",
    "import pandas as pd\n",
    "import seaborn as sns\n",
    "import matplotlib.pyplot as plt\n",
    "from speednav import utilities as util\n",
    "import datetime\n",
    "import networkx as nx"
   ]
  },
  {
   "cell_type": "code",
   "execution_count": 3,
   "id": "61496eee",
   "metadata": {},
   "outputs": [],
   "source": [
    "# load the SPEED data\n",
    "data = util.load_data()\n",
    "\n",
    "# load the dictionary with the variable names and decriptions\n",
    "data_vars  = util.DATA_VARS"
   ]
  },
  {
   "cell_type": "markdown",
   "id": "18339c05",
   "metadata": {},
   "source": [
    "### Filter data for country or other variable values"
   ]
  },
  {
   "cell_type": "code",
   "execution_count": 4,
   "id": "af7db682",
   "metadata": {},
   "outputs": [],
   "source": [
    "country_name = 'Liberia' # 'Sierra Leone', 'Philippines', 'Liberia' \n",
    "data_country = util.filter_data(data, country_name)\n",
    "data_filter = data_country#.loc[(data_country.O0001 != 13)]"
   ]
  },
  {
   "cell_type": "markdown",
   "id": "66ac15e7",
   "metadata": {},
   "source": [
    "### Set some network parameters"
   ]
  },
  {
   "cell_type": "code",
   "execution_count": 9,
   "id": "28941a06",
   "metadata": {},
   "outputs": [],
   "source": [
    "node_name = 'index'\n",
    "edge_name_list = ['INI0005_1', 'INI0005_2', 'INI0005_3', 'INI0005_4', 'INI0005_5']\n",
    "return_df = True # True is needed for networkx, False is needed for"
   ]
  },
  {
   "cell_type": "markdown",
   "id": "07ebfc11",
   "metadata": {},
   "source": [
    "### Calculate the edge list from the data"
   ]
  },
  {
   "cell_type": "code",
   "execution_count": 10,
   "id": "dd6f3c40",
   "metadata": {},
   "outputs": [
    {
     "name": "stdout",
     "output_type": "stream",
     "text": [
      "    source  target\n",
      "0   4978.0  4979.0\n",
      "1   4979.0  4980.0\n",
      "2   4980.0  4981.0\n",
      "3   4981.0  4982.0\n",
      "4   4982.0  4983.0\n",
      "..     ...     ...\n",
      "4   4982.0  4983.0\n",
      "5   4983.0  4984.0\n",
      "6   4984.0  4985.0\n",
      "0   4979.0  4980.0\n",
      "0   4977.0  4978.0\n",
      "\n",
      "[905478 rows x 2 columns]\n"
     ]
    }
   ],
   "source": [
    "edge_list = util.construct_edge_list_multivar(data_filter, node_name, edge_name_list, return_df=return_df)\n",
    "print(edge_list)"
   ]
  },
  {
   "cell_type": "code",
   "execution_count": 11,
   "id": "bcb12b56",
   "metadata": {},
   "outputs": [],
   "source": [
    "# calcualte the network using networkx"
   ]
  },
  {
   "cell_type": "code",
   "execution_count": null,
   "id": "99a771e9",
   "metadata": {},
   "outputs": [],
   "source": [
    "network = nx.from_pandas_edgelist(edge_list, source='source', target='target')"
   ]
  }
 ],
 "metadata": {
  "kernelspec": {
   "display_name": "Python 3 (ipykernel)",
   "language": "python",
   "name": "python3"
  },
  "language_info": {
   "codemirror_mode": {
    "name": "ipython",
    "version": 3
   },
   "file_extension": ".py",
   "mimetype": "text/x-python",
   "name": "python",
   "nbconvert_exporter": "python",
   "pygments_lexer": "ipython3",
   "version": "3.8.13"
  }
 },
 "nbformat": 4,
 "nbformat_minor": 5
}
