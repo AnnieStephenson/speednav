{
 "cells": [
  {
   "cell_type": "code",
   "execution_count": 1,
   "id": "32021e46",
   "metadata": {},
   "outputs": [],
   "source": [
    "import numpy as np\n",
    "import os\n",
    "import pandas as pd\n",
    "import seaborn as sns\n",
    "import matplotlib.pyplot as plt\n",
    "from speednav import utilities as util\n",
    "import datetime\n",
    "import networkx as nx"
   ]
  },
  {
   "cell_type": "code",
   "execution_count": 3,
   "id": "7e411f36",
   "metadata": {},
   "outputs": [],
   "source": [
    "# load the SPEED data\n",
    "data = util.load_data()\n",
    "\n",
    "# load the dictionary with the variable names and decriptions\n",
    "data_vars  = util.DATA_VARS"
   ]
  },
  {
   "cell_type": "markdown",
   "id": "bbb54f8f",
   "metadata": {},
   "source": [
    "### Filter data for country or other variable values"
   ]
  },
  {
   "cell_type": "code",
   "execution_count": 4,
   "id": "2479f12b",
   "metadata": {},
   "outputs": [],
   "source": [
    "country_name = 'Liberia' # 'Sierra Leone', 'Philippines', 'Liberia' \n",
    "data_country = util.filter_data(data, country_name)\n",
    "data_filter = data_country#.loc[(data_country.O0001 != 13)]"
   ]
  },
  {
   "cell_type": "markdown",
   "id": "9c6dad49",
   "metadata": {},
   "source": [
    "### Set some network parameters"
   ]
  },
  {
   "cell_type": "code",
   "execution_count": 9,
   "id": "de306a43",
   "metadata": {},
   "outputs": [],
   "source": [
    "node_name = 'index'\n",
    "edge_name_list = ['INI0005_1', 'INI0005_2', 'INI0005_3', 'INI0005_4', 'INI0005_5']\n",
    "return_df = True # True is needed for networkx, False is needed for graph-tool"
   ]
  },
  {
   "cell_type": "markdown",
   "id": "ff24e9db",
   "metadata": {},
   "source": [
    "### Calculate the edge list from the data"
   ]
  },
  {
   "cell_type": "code",
   "execution_count": 10,
   "id": "b4bd1a4a",
   "metadata": {},
   "outputs": [
    {
     "name": "stdout",
     "output_type": "stream",
     "text": [
      "    source  target\n",
      "0   4978.0  4979.0\n",
      "1   4979.0  4980.0\n",
      "2   4980.0  4981.0\n",
      "3   4981.0  4982.0\n",
      "4   4982.0  4983.0\n",
      "..     ...     ...\n",
      "4   4982.0  4983.0\n",
      "5   4983.0  4984.0\n",
      "6   4984.0  4985.0\n",
      "0   4979.0  4980.0\n",
      "0   4977.0  4978.0\n",
      "\n",
      "[905478 rows x 2 columns]\n"
     ]
    }
   ],
   "source": [
    "edge_list = util.construct_edge_list_multivar(data_filter, node_name, edge_name_list, return_df=return_df)\n",
    "print(edge_list)"
   ]
  },
  {
   "cell_type": "markdown",
   "id": "4867ac39",
   "metadata": {},
   "source": [
    "### Calculate the network using networkx"
   ]
  },
  {
   "cell_type": "code",
   "execution_count": 12,
   "id": "b6830588",
   "metadata": {},
   "outputs": [],
   "source": [
    "network = nx.from_pandas_edgelist(edge_list, source='source', target='target')"
   ]
  },
  {
   "cell_type": "code",
   "execution_count": 13,
   "id": "4ff6e6e6",
   "metadata": {},
   "outputs": [
    {
     "data": {
      "image/png": "[encoded data removed]",
      "text/plain": [
       "<Figure size 640x480 with 1 Axes>"
      ]
     },
     "metadata": {},
     "output_type": "display_data"
    }
   ],
   "source": [
    "nx.draw_networkx(network, with_labels=False, node_size=10)"
   ]
  },
  {
   "cell_type": "code",
   "execution_count": null,
   "id": "132797ec",
   "metadata": {},
   "outputs": [],
   "source": []
  }
 ],
 "metadata": {
  "kernelspec": {
   "display_name": "Python 3 (ipykernel)",
   "language": "python",
   "name": "python3"
  },
  "language_info": {
   "codemirror_mode": {
    "name": "ipython",
    "version": 3
   },
   "file_extension": ".py",
   "mimetype": "text/x-python",
   "name": "python",
   "nbconvert_exporter": "python",
   "pygments_lexer": "ipython3",
   "version": "3.8.13"
  }
 },
 "nbformat": 4,
 "nbformat_minor": 5
}
