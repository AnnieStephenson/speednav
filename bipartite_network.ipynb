{
 "cells": [
  {
   "cell_type": "code",
   "execution_count": 2,
   "metadata": {},
   "outputs": [],
   "source": [
    "import numpy as np\n",
    "import os\n",
    "import pandas as pd\n",
    "import seaborn as sns\n",
    "import matplotlib.pyplot as plt\n",
    "from speednav import utilities as util\n",
    "import datetime\n",
    "import networkx as nx\n",
    "from scipy.sparse import csr_matrix\n",
    "from networkx.algorithms import bipartite"
   ]
  },
  {
   "cell_type": "code",
   "execution_count": 3,
   "metadata": {},
   "outputs": [],
   "source": [
    "# load the SPEED data\n",
    "data = util.load_data()\n",
    "\n",
    "# load the dictionary with the variable names and decriptions\n",
    "data_vars  = util.DATA_VARS"
   ]
  },
  {
   "attachments": {},
   "cell_type": "markdown",
   "metadata": {},
   "source": [
    "### Filter data for country or other variable values"
   ]
  },
  {
   "cell_type": "code",
   "execution_count": 4,
   "metadata": {},
   "outputs": [
    {
     "name": "stdout",
     "output_type": "stream",
     "text": [
      "Total number of observations in Liberia: 2584\n"
     ]
    }
   ],
   "source": [
    "country_name = 'Liberia' # 'Sierra Leone', 'Philippines', 'Liberia' \n",
    "data_country = util.filter_data(data, country_name)\n",
    "data_filter = data_country#.loc[(data_country.O0001 != 13)]\n",
    "\n",
    "print(f\"Total number of observations in {country_name}: \" + str(len(data_filter)))"
   ]
  },
  {
   "attachments": {},
   "cell_type": "markdown",
   "metadata": {},
   "source": [
    "### create event-initiator matrix and edgelist\n",
    "\n",
    "I am using the variable 'AEI0003' as index here as it is the unique ID of event."
   ]
  },
  {
   "cell_type": "code",
   "execution_count": 6,
   "metadata": {},
   "outputs": [],
   "source": [
    "# functions\n",
    "def get_event_initiator_matrix(data_filter, initiator_columns):\n",
    "    df = data_country[['AEI0003'] + initiator_columns] # select relevant columns\n",
    "    df = df.set_index('AEI0003', drop = True) # reset index\n",
    "    matrix =  pd.get_dummies(df, prefix='', prefix_sep='').groupby(level = 0, axis = 1).sum() # create matrix \n",
    "    matrix = matrix[matrix.sum(axis=1) > 0] # delete rows where rowsum = 0\n",
    "    return matrix\n",
    "\n",
    "def get_event_initiator_edgelist(matrix):\n",
    "    edgelist = matrix.stack().reset_index() # convert from matrix to edgelist\n",
    "    edgelist.columns = ['source', 'target', 'weight']\n",
    "    edgelist = edgelist[edgelist['weight'] != 0] # delete rows where weight = 0\n",
    "    edgelist = edgelist.reset_index(drop = True) \n",
    "    return edgelist\n"
   ]
  },
  {
   "cell_type": "code",
   "execution_count": 108,
   "metadata": {},
   "outputs": [],
   "source": [
    "# get event_initiator matrix and edgelist\n",
    "# initiator_columns = ['INI0005_1', 'INI0005_2', 'INI0005_3', 'INI0005_4', 'INI0005_5'] # person\n",
    "initiator_columns = ['INI0011_1', 'INI0011_2', 'INI0011_3', 'INI0011_4', 'INI0011_5'] # group\n",
    "\n",
    "matrix = get_event_initiator_matrix(data_filter, initiator_columns)\n",
    "edgelist = get_event_initiator_edgelist(matrix)"
   ]
  },
  {
   "attachments": {},
   "cell_type": "markdown",
   "metadata": {},
   "source": [
    "### get the networks"
   ]
  },
  {
   "cell_type": "code",
   "execution_count": 109,
   "metadata": {},
   "outputs": [],
   "source": [
    "# create bipartite network from the edgelist \n",
    "B = nx.from_pandas_edgelist(edgelist, 'source', 'target', edge_attr = True)\n",
    "\n",
    "\n",
    "# get event vs initiator nodes\n",
    "event_nodes = list(matrix.index)\n",
    "initiator_nodes = list(matrix.columns.values)\n",
    "\n",
    "# project to event or initiator networks\n",
    "event_G = bipartite.weighted_projected_graph(B, event_nodes)\n",
    "initiator_G = bipartite.weighted_projected_graph(B, initiator_nodes)\n"
   ]
  },
  {
   "cell_type": "code",
   "execution_count": 110,
   "metadata": {},
   "outputs": [
    {
     "name": "stdout",
     "output_type": "stream",
     "text": [
      "number of node in the event network: 418; number of edges in the event network: 32443\n",
      "number of node in the initiator network: 39; number of edges in the initiator network: 5\n"
     ]
    }
   ],
   "source": [
    "print(\"number of node in the event network: \" + str(len(event_G.nodes())) +\n",
    "      \"; number of edges in the event network:\", str(len(event_G.edges())))\n",
    "\n",
    "print(\"number of node in the initiator network: \" + str(len(initiator_G.nodes())) +\n",
    "      \"; number of edges in the initiator network:\", str(len(initiator_G.edges())))\n"
   ]
  },
  {
   "attachments": {},
   "cell_type": "markdown",
   "metadata": {},
   "source": [
    "### exploring the networks"
   ]
  },
  {
   "cell_type": "code",
   "execution_count": 113,
   "metadata": {},
   "outputs": [
    {
     "data": {
      "image/png": "[encoded data removed]",
      "text/plain": [
       "<Figure size 640x480 with 1 Axes>"
      ]
     },
     "metadata": {},
     "output_type": "display_data"
    }
   ],
   "source": [
    "nx.draw(event_G, with_labels=False, node_size = 10, edge_color = 'grey', width = 0.5,\n",
    "        pos = nx.spring_layout(event_G))"
   ]
  },
  {
   "cell_type": "code",
   "execution_count": 114,
   "metadata": {},
   "outputs": [],
   "source": [
    "node_df = pd.DataFrame.from_records([i for i in event_G.degree()], columns=['node', 'degree'])"
   ]
  },
  {
   "cell_type": "code",
   "execution_count": 115,
   "metadata": {},
   "outputs": [
    {
     "data": {
      "text/plain": [
       "count    418.000000\n",
       "mean     155.229665\n",
       "std      111.038783\n",
       "min        0.000000\n",
       "25%       34.000000\n",
       "50%      246.000000\n",
       "75%      246.000000\n",
       "max      274.000000\n",
       "Name: degree, dtype: float64"
      ]
     },
     "execution_count": 115,
     "metadata": {},
     "output_type": "execute_result"
    }
   ],
   "source": [
    "node_df['degree'].describe()"
   ]
  },
  {
   "cell_type": "code",
   "execution_count": 116,
   "metadata": {},
   "outputs": [
    {
     "data": {
      "text/html": [
       "<div>\n",
       "<style scoped>\n",
       "    .dataframe tbody tr th:only-of-type {\n",
       "        vertical-align: middle;\n",
       "    }\n",
       "\n",
       "    .dataframe tbody tr th {\n",
       "        vertical-align: top;\n",
       "    }\n",
       "\n",
       "    .dataframe thead th {\n",
       "        text-align: right;\n",
       "    }\n",
       "</style>\n",
       "<table border=\"1\" class=\"dataframe\">\n",
       "  <thead>\n",
       "    <tr style=\"text-align: right;\">\n",
       "      <th></th>\n",
       "      <th>node</th>\n",
       "      <th>degree</th>\n",
       "    </tr>\n",
       "  </thead>\n",
       "  <tbody>\n",
       "    <tr>\n",
       "      <th>100</th>\n",
       "      <td>230092</td>\n",
       "      <td>246</td>\n",
       "    </tr>\n",
       "    <tr>\n",
       "      <th>101</th>\n",
       "      <td>227043</td>\n",
       "      <td>246</td>\n",
       "    </tr>\n",
       "    <tr>\n",
       "      <th>102</th>\n",
       "      <td>227132</td>\n",
       "      <td>246</td>\n",
       "    </tr>\n",
       "    <tr>\n",
       "      <th>103</th>\n",
       "      <td>219937</td>\n",
       "      <td>246</td>\n",
       "    </tr>\n",
       "    <tr>\n",
       "      <th>104</th>\n",
       "      <td>227545</td>\n",
       "      <td>246</td>\n",
       "    </tr>\n",
       "    <tr>\n",
       "      <th>...</th>\n",
       "      <td>...</td>\n",
       "      <td>...</td>\n",
       "    </tr>\n",
       "    <tr>\n",
       "      <th>411</th>\n",
       "      <td>276755</td>\n",
       "      <td>246</td>\n",
       "    </tr>\n",
       "    <tr>\n",
       "      <th>412</th>\n",
       "      <td>269440</td>\n",
       "      <td>246</td>\n",
       "    </tr>\n",
       "    <tr>\n",
       "      <th>413</th>\n",
       "      <td>277685</td>\n",
       "      <td>274</td>\n",
       "    </tr>\n",
       "    <tr>\n",
       "      <th>414</th>\n",
       "      <td>281474</td>\n",
       "      <td>246</td>\n",
       "    </tr>\n",
       "    <tr>\n",
       "      <th>415</th>\n",
       "      <td>276344</td>\n",
       "      <td>246</td>\n",
       "    </tr>\n",
       "  </tbody>\n",
       "</table>\n",
       "<p>247 rows × 2 columns</p>\n",
       "</div>"
      ],
      "text/plain": [
       "       node  degree\n",
       "100  230092     246\n",
       "101  227043     246\n",
       "102  227132     246\n",
       "103  219937     246\n",
       "104  227545     246\n",
       "..      ...     ...\n",
       "411  276755     246\n",
       "412  269440     246\n",
       "413  277685     274\n",
       "414  281474     246\n",
       "415  276344     246\n",
       "\n",
       "[247 rows x 2 columns]"
      ]
     },
     "execution_count": 116,
     "metadata": {},
     "output_type": "execute_result"
    }
   ],
   "source": [
    "node_df[node_df['degree'] >= 246]"
   ]
  },
  {
   "cell_type": "code",
   "execution_count": 118,
   "metadata": {},
   "outputs": [
    {
     "data": {
      "text/plain": [
       "{227545}"
      ]
     },
     "execution_count": 118,
     "metadata": {},
     "output_type": "execute_result"
    }
   ],
   "source": [
    "set(node_df[node_df['degree'] >= 246]['node']) - set(nx.neighbors(event_G, 227545))"
   ]
  },
  {
   "cell_type": "code",
   "execution_count": 121,
   "metadata": {},
   "outputs": [
    {
     "data": {
      "text/plain": [
       "<Axes: >"
      ]
     },
     "execution_count": 121,
     "metadata": {},
     "output_type": "execute_result"
    },
    {
     "data": {
      "image/png": "[encoded data removed]",
      "text/plain": [
       "<Figure size 640x480 with 1 Axes>"
      ]
     },
     "metadata": {},
     "output_type": "display_data"
    }
   ],
   "source": [
    "node_df[node_df['degree'] < 246]['degree'].hist()"
   ]
  },
  {
   "cell_type": "code",
   "execution_count": null,
   "metadata": {},
   "outputs": [],
   "source": []
  }
 ],
 "metadata": {
  "kernelspec": {
   "display_name": "base",
   "language": "python",
   "name": "python3"
  },
  "language_info": {
   "codemirror_mode": {
    "name": "ipython",
    "version": 3
   },
   "file_extension": ".py",
   "mimetype": "text/x-python",
   "name": "python",
   "nbconvert_exporter": "python",
   "pygments_lexer": "ipython3",
   "version": "3.9.13"
  },
  "orig_nbformat": 4
 },
 "nbformat": 4,
 "nbformat_minor": 2
}
